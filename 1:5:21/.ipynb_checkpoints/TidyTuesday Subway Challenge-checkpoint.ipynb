{
 "cells": [
  {
   "cell_type": "markdown",
   "metadata": {},
   "source": [
    "# Tidy Tuesday Subway Challenge 1/5/21 \n",
    "\n",
    "This week's Tidy Tuesday challenge is focused on the cost of subway lines, with information collected from Subways around the world. This was part of a larger case study on the [Boston Green Line](https://transitcosts.com/city/boston-case-the-story-of-the-green-line-extension/) done by NYU to analyze costs of subway expansion. Subway expansion is less common than other transportation construction project alternatives (like road building, highway repair etc), so it can tend to be more costly. This data is meant to be explored in order to find trends in costs and ultimately increase efficiency in subway construction. \n",
    "\n",
    "After exploring the data a bit, I thought it would be interesting to practice my pandas aggregation skills on this dataset and analyze the construction costs of subways across the world. To do this, they have adjusted all costs to USD in their real cost column. This information has not been adjusted for inflation. "
   ]
  },
  {
   "cell_type": "code",
   "execution_count": 1,
   "metadata": {},
   "outputs": [],
   "source": [
    "import pandas as pd \n",
    "import pandas as pd\n",
    "import numpy as np\n",
    "import seaborn as sns\n",
    "import matplotlib.pyplot as plt\n",
    "plt.style.use('seaborn')"
   ]
  },
  {
   "cell_type": "markdown",
   "metadata": {},
   "source": [
    "Get DataSet From TidyTuesday"
   ]
  },
  {
   "cell_type": "code",
   "execution_count": 2,
   "metadata": {},
   "outputs": [],
   "source": [
    "\n",
    "url = 'https://raw.githubusercontent.com/rfordatascience/tidytuesday/master/data/2021/2021-01-05/transit_cost.csv'"
   ]
  },
  {
   "cell_type": "code",
   "execution_count": 3,
   "metadata": {},
   "outputs": [],
   "source": [
    "df = pd.read_csv(url, error_bad_lines=False)"
   ]
  },
  {
   "cell_type": "code",
   "execution_count": 4,
   "metadata": {
    "scrolled": true
   },
   "outputs": [
    {
     "data": {
      "text/html": [
       "<div>\n",
       "<style scoped>\n",
       "    .dataframe tbody tr th:only-of-type {\n",
       "        vertical-align: middle;\n",
       "    }\n",
       "\n",
       "    .dataframe tbody tr th {\n",
       "        vertical-align: top;\n",
       "    }\n",
       "\n",
       "    .dataframe thead th {\n",
       "        text-align: right;\n",
       "    }\n",
       "</style>\n",
       "<table border=\"1\" class=\"dataframe\">\n",
       "  <thead>\n",
       "    <tr style=\"text-align: right;\">\n",
       "      <th></th>\n",
       "      <th>e</th>\n",
       "      <th>country</th>\n",
       "      <th>city</th>\n",
       "      <th>line</th>\n",
       "      <th>start_year</th>\n",
       "      <th>end_year</th>\n",
       "      <th>rr</th>\n",
       "      <th>length</th>\n",
       "      <th>tunnel_per</th>\n",
       "      <th>tunnel</th>\n",
       "      <th>stations</th>\n",
       "      <th>source1</th>\n",
       "      <th>cost</th>\n",
       "      <th>currency</th>\n",
       "      <th>year</th>\n",
       "      <th>ppp_rate</th>\n",
       "      <th>real_cost</th>\n",
       "      <th>cost_km_millions</th>\n",
       "      <th>source2</th>\n",
       "      <th>reference</th>\n",
       "    </tr>\n",
       "  </thead>\n",
       "  <tbody>\n",
       "    <tr>\n",
       "      <th>0</th>\n",
       "      <td>7136.0</td>\n",
       "      <td>CA</td>\n",
       "      <td>Vancouver</td>\n",
       "      <td>Broadway</td>\n",
       "      <td>2020</td>\n",
       "      <td>2025</td>\n",
       "      <td>0.0</td>\n",
       "      <td>5.7</td>\n",
       "      <td>87.72%</td>\n",
       "      <td>5.0</td>\n",
       "      <td>6.0</td>\n",
       "      <td>Plan</td>\n",
       "      <td>2830.0</td>\n",
       "      <td>CAD</td>\n",
       "      <td>2018.0</td>\n",
       "      <td>0.84</td>\n",
       "      <td>2377.2</td>\n",
       "      <td>417.052632</td>\n",
       "      <td>Media</td>\n",
       "      <td>https://www.translink.ca/Plans-and-Projects/Ra...</td>\n",
       "    </tr>\n",
       "    <tr>\n",
       "      <th>1</th>\n",
       "      <td>7137.0</td>\n",
       "      <td>CA</td>\n",
       "      <td>Toronto</td>\n",
       "      <td>Vaughan</td>\n",
       "      <td>2009</td>\n",
       "      <td>2017</td>\n",
       "      <td>0.0</td>\n",
       "      <td>8.6</td>\n",
       "      <td>100.00%</td>\n",
       "      <td>8.6</td>\n",
       "      <td>6.0</td>\n",
       "      <td>Media</td>\n",
       "      <td>3200.0</td>\n",
       "      <td>CAD</td>\n",
       "      <td>2013.0</td>\n",
       "      <td>0.81</td>\n",
       "      <td>2592</td>\n",
       "      <td>301.395349</td>\n",
       "      <td>Media</td>\n",
       "      <td>https://www.thestar.com/news/gta/transportatio...</td>\n",
       "    </tr>\n",
       "    <tr>\n",
       "      <th>2</th>\n",
       "      <td>7138.0</td>\n",
       "      <td>CA</td>\n",
       "      <td>Toronto</td>\n",
       "      <td>Scarborough</td>\n",
       "      <td>2020</td>\n",
       "      <td>2030</td>\n",
       "      <td>0.0</td>\n",
       "      <td>7.8</td>\n",
       "      <td>100.00%</td>\n",
       "      <td>7.8</td>\n",
       "      <td>3.0</td>\n",
       "      <td>Wiki</td>\n",
       "      <td>5500.0</td>\n",
       "      <td>CAD</td>\n",
       "      <td>2018.0</td>\n",
       "      <td>0.84</td>\n",
       "      <td>4620</td>\n",
       "      <td>592.307692</td>\n",
       "      <td>Media</td>\n",
       "      <td>https://urbantoronto.ca/news/2020/03/metrolinx...</td>\n",
       "    </tr>\n",
       "    <tr>\n",
       "      <th>3</th>\n",
       "      <td>7139.0</td>\n",
       "      <td>CA</td>\n",
       "      <td>Toronto</td>\n",
       "      <td>Ontario</td>\n",
       "      <td>2020</td>\n",
       "      <td>2030</td>\n",
       "      <td>0.0</td>\n",
       "      <td>15.5</td>\n",
       "      <td>57.00%</td>\n",
       "      <td>8.8</td>\n",
       "      <td>15.0</td>\n",
       "      <td>Plan</td>\n",
       "      <td>8573.0</td>\n",
       "      <td>CAD</td>\n",
       "      <td>2019.0</td>\n",
       "      <td>0.84</td>\n",
       "      <td>7201.32</td>\n",
       "      <td>464.601290</td>\n",
       "      <td>Plan</td>\n",
       "      <td>https://metrolinx.files.wordpress.com/2019/07/...</td>\n",
       "    </tr>\n",
       "    <tr>\n",
       "      <th>4</th>\n",
       "      <td>7144.0</td>\n",
       "      <td>CA</td>\n",
       "      <td>Toronto</td>\n",
       "      <td>Yonge to Richmond Hill</td>\n",
       "      <td>2020</td>\n",
       "      <td>2030</td>\n",
       "      <td>0.0</td>\n",
       "      <td>7.4</td>\n",
       "      <td>100.00%</td>\n",
       "      <td>7.4</td>\n",
       "      <td>6.0</td>\n",
       "      <td>Plan</td>\n",
       "      <td>5600.0</td>\n",
       "      <td>CAD</td>\n",
       "      <td>2020.0</td>\n",
       "      <td>0.84</td>\n",
       "      <td>4704</td>\n",
       "      <td>635.675676</td>\n",
       "      <td>Media</td>\n",
       "      <td>https://www.thestar.com/news/gta/2020/06/24/me...</td>\n",
       "    </tr>\n",
       "  </tbody>\n",
       "</table>\n",
       "</div>"
      ],
      "text/plain": [
       "        e country       city                    line start_year end_year   rr  \\\n",
       "0  7136.0      CA  Vancouver                Broadway       2020     2025  0.0   \n",
       "1  7137.0      CA    Toronto                 Vaughan       2009     2017  0.0   \n",
       "2  7138.0      CA    Toronto             Scarborough       2020     2030  0.0   \n",
       "3  7139.0      CA    Toronto                 Ontario       2020     2030  0.0   \n",
       "4  7144.0      CA    Toronto  Yonge to Richmond Hill       2020     2030  0.0   \n",
       "\n",
       "   length tunnel_per  tunnel  stations source1    cost currency    year  \\\n",
       "0     5.7     87.72%     5.0       6.0    Plan  2830.0      CAD  2018.0   \n",
       "1     8.6    100.00%     8.6       6.0   Media  3200.0      CAD  2013.0   \n",
       "2     7.8    100.00%     7.8       3.0    Wiki  5500.0      CAD  2018.0   \n",
       "3    15.5     57.00%     8.8      15.0    Plan  8573.0      CAD  2019.0   \n",
       "4     7.4    100.00%     7.4       6.0    Plan  5600.0      CAD  2020.0   \n",
       "\n",
       "   ppp_rate real_cost  cost_km_millions source2  \\\n",
       "0      0.84    2377.2        417.052632   Media   \n",
       "1      0.81      2592        301.395349   Media   \n",
       "2      0.84      4620        592.307692   Media   \n",
       "3      0.84   7201.32        464.601290    Plan   \n",
       "4      0.84      4704        635.675676   Media   \n",
       "\n",
       "                                           reference  \n",
       "0  https://www.translink.ca/Plans-and-Projects/Ra...  \n",
       "1  https://www.thestar.com/news/gta/transportatio...  \n",
       "2  https://urbantoronto.ca/news/2020/03/metrolinx...  \n",
       "3  https://metrolinx.files.wordpress.com/2019/07/...  \n",
       "4  https://www.thestar.com/news/gta/2020/06/24/me...  "
      ]
     },
     "execution_count": 4,
     "metadata": {},
     "output_type": "execute_result"
    }
   ],
   "source": [
    "df.head()"
   ]
  },
  {
   "cell_type": "code",
   "execution_count": 5,
   "metadata": {},
   "outputs": [
    {
     "data": {
      "text/plain": [
       "56"
      ]
     },
     "execution_count": 5,
     "metadata": {},
     "output_type": "execute_result"
    }
   ],
   "source": [
    "df['country'].nunique()"
   ]
  },
  {
   "cell_type": "code",
   "execution_count": 6,
   "metadata": {},
   "outputs": [
    {
     "data": {
      "text/plain": [
       "e                    7\n",
       "country              7\n",
       "city                 7\n",
       "line                 7\n",
       "start_year          53\n",
       "end_year            71\n",
       "rr                   8\n",
       "length               5\n",
       "tunnel_per          32\n",
       "tunnel              32\n",
       "stations            15\n",
       "source1             12\n",
       "cost                 7\n",
       "currency             7\n",
       "year                 7\n",
       "ppp_rate             9\n",
       "real_cost            0\n",
       "cost_km_millions     2\n",
       "source2             10\n",
       "reference           19\n",
       "dtype: int64"
      ]
     },
     "execution_count": 6,
     "metadata": {},
     "output_type": "execute_result"
    }
   ],
   "source": [
    "df.isnull().sum()"
   ]
  },
  {
   "cell_type": "code",
   "execution_count": 7,
   "metadata": {},
   "outputs": [
    {
     "data": {
      "text/html": [
       "<div>\n",
       "<style scoped>\n",
       "    .dataframe tbody tr th:only-of-type {\n",
       "        vertical-align: middle;\n",
       "    }\n",
       "\n",
       "    .dataframe tbody tr th {\n",
       "        vertical-align: top;\n",
       "    }\n",
       "\n",
       "    .dataframe thead th {\n",
       "        text-align: right;\n",
       "    }\n",
       "</style>\n",
       "<table border=\"1\" class=\"dataframe\">\n",
       "  <thead>\n",
       "    <tr style=\"text-align: right;\">\n",
       "      <th></th>\n",
       "      <th>e</th>\n",
       "      <th>country</th>\n",
       "      <th>city</th>\n",
       "      <th>line</th>\n",
       "      <th>start_year</th>\n",
       "      <th>end_year</th>\n",
       "      <th>rr</th>\n",
       "      <th>length</th>\n",
       "      <th>tunnel_per</th>\n",
       "      <th>tunnel</th>\n",
       "      <th>stations</th>\n",
       "      <th>source1</th>\n",
       "      <th>cost</th>\n",
       "      <th>currency</th>\n",
       "      <th>year</th>\n",
       "      <th>ppp_rate</th>\n",
       "      <th>real_cost</th>\n",
       "      <th>cost_km_millions</th>\n",
       "      <th>source2</th>\n",
       "      <th>reference</th>\n",
       "    </tr>\n",
       "  </thead>\n",
       "  <tbody>\n",
       "    <tr>\n",
       "      <th>537</th>\n",
       "      <td>NaN</td>\n",
       "      <td>NaN</td>\n",
       "      <td>NaN</td>\n",
       "      <td>NaN</td>\n",
       "      <td>NaN</td>\n",
       "      <td>NaN</td>\n",
       "      <td>NaN</td>\n",
       "      <td>12256.983000</td>\n",
       "      <td>NaN</td>\n",
       "      <td>7790.7826</td>\n",
       "      <td>NaN</td>\n",
       "      <td>NaN</td>\n",
       "      <td>NaN</td>\n",
       "      <td>NaN</td>\n",
       "      <td>NaN</td>\n",
       "      <td>NaN</td>\n",
       "      <td>AVG</td>\n",
       "      <td>233.079919</td>\n",
       "      <td>372.9278706</td>\n",
       "      <td>NaN</td>\n",
       "    </tr>\n",
       "    <tr>\n",
       "      <th>538</th>\n",
       "      <td>NaN</td>\n",
       "      <td>NaN</td>\n",
       "      <td>NaN</td>\n",
       "      <td>NaN</td>\n",
       "      <td>NaN</td>\n",
       "      <td>NaN</td>\n",
       "      <td>NaN</td>\n",
       "      <td>7660.614375</td>\n",
       "      <td>NaN</td>\n",
       "      <td>NaN</td>\n",
       "      <td>NaN</td>\n",
       "      <td>NaN</td>\n",
       "      <td>NaN</td>\n",
       "      <td>NaN</td>\n",
       "      <td>NaN</td>\n",
       "      <td>NaN</td>\n",
       "      <td>MEDIAN</td>\n",
       "      <td>180.702862</td>\n",
       "      <td>289.1245783</td>\n",
       "      <td>NaN</td>\n",
       "    </tr>\n",
       "    <tr>\n",
       "      <th>539</th>\n",
       "      <td>NaN</td>\n",
       "      <td>NaN</td>\n",
       "      <td>NaN</td>\n",
       "      <td>NaN</td>\n",
       "      <td>NaN</td>\n",
       "      <td>NaN</td>\n",
       "      <td>NaN</td>\n",
       "      <td>NaN</td>\n",
       "      <td>NaN</td>\n",
       "      <td>NaN</td>\n",
       "      <td>NaN</td>\n",
       "      <td>NaN</td>\n",
       "      <td>NaN</td>\n",
       "      <td>NaN</td>\n",
       "      <td>NaN</td>\n",
       "      <td>NaN</td>\n",
       "      <td>STD</td>\n",
       "      <td>258.744889</td>\n",
       "      <td>NaN</td>\n",
       "      <td>NaN</td>\n",
       "    </tr>\n",
       "    <tr>\n",
       "      <th>540</th>\n",
       "      <td>NaN</td>\n",
       "      <td>NaN</td>\n",
       "      <td>NaN</td>\n",
       "      <td>NaN</td>\n",
       "      <td>NaN</td>\n",
       "      <td>NaN</td>\n",
       "      <td>NaN</td>\n",
       "      <td>NaN</td>\n",
       "      <td>NaN</td>\n",
       "      <td>NaN</td>\n",
       "      <td>NaN</td>\n",
       "      <td>NaN</td>\n",
       "      <td>NaN</td>\n",
       "      <td>NaN</td>\n",
       "      <td>NaN</td>\n",
       "      <td>NaN</td>\n",
       "      <td>MIN</td>\n",
       "      <td>7.789626</td>\n",
       "      <td>NaN</td>\n",
       "      <td>NaN</td>\n",
       "    </tr>\n",
       "    <tr>\n",
       "      <th>541</th>\n",
       "      <td>NaN</td>\n",
       "      <td>NaN</td>\n",
       "      <td>NaN</td>\n",
       "      <td>NaN</td>\n",
       "      <td>NaN</td>\n",
       "      <td>NaN</td>\n",
       "      <td>NaN</td>\n",
       "      <td>NaN</td>\n",
       "      <td>NaN</td>\n",
       "      <td>NaN</td>\n",
       "      <td>NaN</td>\n",
       "      <td>NaN</td>\n",
       "      <td>NaN</td>\n",
       "      <td>NaN</td>\n",
       "      <td>NaN</td>\n",
       "      <td>NaN</td>\n",
       "      <td>QUARTILE 1</td>\n",
       "      <td>134.863267</td>\n",
       "      <td>215.7812275</td>\n",
       "      <td>NaN</td>\n",
       "    </tr>\n",
       "  </tbody>\n",
       "</table>\n",
       "</div>"
      ],
      "text/plain": [
       "      e country city line start_year end_year  rr        length tunnel_per  \\\n",
       "537 NaN     NaN  NaN  NaN        NaN      NaN NaN  12256.983000        NaN   \n",
       "538 NaN     NaN  NaN  NaN        NaN      NaN NaN   7660.614375        NaN   \n",
       "539 NaN     NaN  NaN  NaN        NaN      NaN NaN           NaN        NaN   \n",
       "540 NaN     NaN  NaN  NaN        NaN      NaN NaN           NaN        NaN   \n",
       "541 NaN     NaN  NaN  NaN        NaN      NaN NaN           NaN        NaN   \n",
       "\n",
       "        tunnel  stations source1  cost currency  year  ppp_rate   real_cost  \\\n",
       "537  7790.7826       NaN     NaN   NaN      NaN   NaN       NaN         AVG   \n",
       "538        NaN       NaN     NaN   NaN      NaN   NaN       NaN      MEDIAN   \n",
       "539        NaN       NaN     NaN   NaN      NaN   NaN       NaN         STD   \n",
       "540        NaN       NaN     NaN   NaN      NaN   NaN       NaN         MIN   \n",
       "541        NaN       NaN     NaN   NaN      NaN   NaN       NaN  QUARTILE 1   \n",
       "\n",
       "     cost_km_millions      source2 reference  \n",
       "537        233.079919  372.9278706       NaN  \n",
       "538        180.702862  289.1245783       NaN  \n",
       "539        258.744889          NaN       NaN  \n",
       "540          7.789626          NaN       NaN  \n",
       "541        134.863267  215.7812275       NaN  "
      ]
     },
     "execution_count": 7,
     "metadata": {},
     "output_type": "execute_result"
    }
   ],
   "source": [
    "df[df.country.isnull()].head()"
   ]
  },
  {
   "cell_type": "markdown",
   "metadata": {},
   "source": [
    "Null Countries do not provide any reasonable information "
   ]
  },
  {
   "cell_type": "code",
   "execution_count": 8,
   "metadata": {},
   "outputs": [],
   "source": [
    "new = df[df.country.notnull()]"
   ]
  },
  {
   "cell_type": "code",
   "execution_count": 9,
   "metadata": {},
   "outputs": [
    {
     "data": {
      "text/plain": [
       "e                    0\n",
       "country              0\n",
       "city                 0\n",
       "line                 0\n",
       "start_year          46\n",
       "end_year            64\n",
       "rr                   1\n",
       "length               0\n",
       "tunnel_per          25\n",
       "tunnel              26\n",
       "stations             8\n",
       "source1              5\n",
       "cost                 0\n",
       "currency             0\n",
       "year                 0\n",
       "ppp_rate             2\n",
       "real_cost            0\n",
       "cost_km_millions     2\n",
       "source2              7\n",
       "reference           12\n",
       "dtype: int64"
      ]
     },
     "execution_count": 9,
     "metadata": {},
     "output_type": "execute_result"
    }
   ],
   "source": [
    "new.isnull().sum()"
   ]
  },
  {
   "cell_type": "markdown",
   "metadata": {},
   "source": [
    "There are still a lot of null start and end years. After looking at the data, these seem to be projected information. So either the line is not done yet and it has started being built, or the line has not been started but the project has a projected end date. We can remove this information because it doesn't really help us gather information about the time and cost of actually buildiing lines. These are just projections. In the future, we could find a way to add this information. "
   ]
  },
  {
   "cell_type": "code",
   "execution_count": 10,
   "metadata": {},
   "outputs": [],
   "source": [
    "list = df[df.start_year.isnull()]"
   ]
  },
  {
   "cell_type": "code",
   "execution_count": 11,
   "metadata": {},
   "outputs": [
    {
     "data": {
      "text/html": [
       "<div>\n",
       "<style scoped>\n",
       "    .dataframe tbody tr th:only-of-type {\n",
       "        vertical-align: middle;\n",
       "    }\n",
       "\n",
       "    .dataframe tbody tr th {\n",
       "        vertical-align: top;\n",
       "    }\n",
       "\n",
       "    .dataframe thead th {\n",
       "        text-align: right;\n",
       "    }\n",
       "</style>\n",
       "<table border=\"1\" class=\"dataframe\">\n",
       "  <thead>\n",
       "    <tr style=\"text-align: right;\">\n",
       "      <th></th>\n",
       "      <th>e</th>\n",
       "      <th>country</th>\n",
       "      <th>city</th>\n",
       "      <th>line</th>\n",
       "      <th>start_year</th>\n",
       "      <th>end_year</th>\n",
       "      <th>rr</th>\n",
       "      <th>length</th>\n",
       "      <th>tunnel_per</th>\n",
       "      <th>tunnel</th>\n",
       "      <th>stations</th>\n",
       "      <th>source1</th>\n",
       "      <th>cost</th>\n",
       "      <th>currency</th>\n",
       "      <th>year</th>\n",
       "      <th>ppp_rate</th>\n",
       "      <th>real_cost</th>\n",
       "      <th>cost_km_millions</th>\n",
       "      <th>source2</th>\n",
       "      <th>reference</th>\n",
       "    </tr>\n",
       "  </thead>\n",
       "  <tbody>\n",
       "    <tr>\n",
       "      <th>119</th>\n",
       "      <td>7376.0</td>\n",
       "      <td>IR</td>\n",
       "      <td>Tehran</td>\n",
       "      <td>Line 6</td>\n",
       "      <td>NaN</td>\n",
       "      <td>2020</td>\n",
       "      <td>0.0</td>\n",
       "      <td>31.00</td>\n",
       "      <td>100.00%</td>\n",
       "      <td>31.00</td>\n",
       "      <td>29.0</td>\n",
       "      <td>Media</td>\n",
       "      <td>90000000.0</td>\n",
       "      <td>IRR</td>\n",
       "      <td>2017.0</td>\n",
       "      <td>0.000064</td>\n",
       "      <td>5760</td>\n",
       "      <td>185.806452</td>\n",
       "      <td>Media</td>\n",
       "      <td>https://financialtribune.com/articles/auto/786...</td>\n",
       "    </tr>\n",
       "    <tr>\n",
       "      <th>120</th>\n",
       "      <td>7377.0</td>\n",
       "      <td>IR</td>\n",
       "      <td>Tehran</td>\n",
       "      <td>Line 7</td>\n",
       "      <td>NaN</td>\n",
       "      <td>2019</td>\n",
       "      <td>0.0</td>\n",
       "      <td>27.00</td>\n",
       "      <td>100.00%</td>\n",
       "      <td>27.00</td>\n",
       "      <td>25.0</td>\n",
       "      <td>Media</td>\n",
       "      <td>90000000.0</td>\n",
       "      <td>IRR</td>\n",
       "      <td>2017.0</td>\n",
       "      <td>0.000064</td>\n",
       "      <td>5760</td>\n",
       "      <td>213.333333</td>\n",
       "      <td>Media</td>\n",
       "      <td>https://financialtribune.com/articles/auto/786...</td>\n",
       "    </tr>\n",
       "    <tr>\n",
       "      <th>204</th>\n",
       "      <td>7545.0</td>\n",
       "      <td>IN</td>\n",
       "      <td>Nagpur</td>\n",
       "      <td>Phase 2</td>\n",
       "      <td>NaN</td>\n",
       "      <td>NaN</td>\n",
       "      <td>0.0</td>\n",
       "      <td>43.80</td>\n",
       "      <td>0.00%</td>\n",
       "      <td>0.00</td>\n",
       "      <td>32.0</td>\n",
       "      <td>Plan</td>\n",
       "      <td>112160.0</td>\n",
       "      <td>INR</td>\n",
       "      <td>2018.0</td>\n",
       "      <td>0.048000</td>\n",
       "      <td>5383.68</td>\n",
       "      <td>122.915069</td>\n",
       "      <td>Media</td>\n",
       "      <td>https://timesofindia.indiatimes.com/city/nagpu...</td>\n",
       "    </tr>\n",
       "    <tr>\n",
       "      <th>271</th>\n",
       "      <td>7712.0</td>\n",
       "      <td>CN</td>\n",
       "      <td>Shenzhen</td>\n",
       "      <td>Line 3 Phase 4</td>\n",
       "      <td>NaN</td>\n",
       "      <td>2022</td>\n",
       "      <td>0.0</td>\n",
       "      <td>9.35</td>\n",
       "      <td>79.36%</td>\n",
       "      <td>7.42</td>\n",
       "      <td>7.0</td>\n",
       "      <td>Plan</td>\n",
       "      <td>10785.0</td>\n",
       "      <td>CNY</td>\n",
       "      <td>2020.0</td>\n",
       "      <td>0.238200</td>\n",
       "      <td>2568.99</td>\n",
       "      <td>274.760000</td>\n",
       "      <td>Plan</td>\n",
       "      <td>https://www.ndrc.gov.cn/xxgk/zcfb/ghwb/201707/...</td>\n",
       "    </tr>\n",
       "    <tr>\n",
       "      <th>277</th>\n",
       "      <td>7722.0</td>\n",
       "      <td>CN</td>\n",
       "      <td>Shenzhen</td>\n",
       "      <td>Line 8 Phase 3</td>\n",
       "      <td>NaN</td>\n",
       "      <td>2025</td>\n",
       "      <td>0.0</td>\n",
       "      <td>4.26</td>\n",
       "      <td>100.00%</td>\n",
       "      <td>4.26</td>\n",
       "      <td>NaN</td>\n",
       "      <td>Plan</td>\n",
       "      <td>8318.0</td>\n",
       "      <td>CNY</td>\n",
       "      <td>2020.0</td>\n",
       "      <td>0.238200</td>\n",
       "      <td>1981.35</td>\n",
       "      <td>465.110000</td>\n",
       "      <td>Plan</td>\n",
       "      <td>https://www.ndrc.gov.cn/xxgk/zcfb/ghwb/201707/...</td>\n",
       "    </tr>\n",
       "  </tbody>\n",
       "</table>\n",
       "</div>"
      ],
      "text/plain": [
       "          e country      city            line start_year end_year   rr  \\\n",
       "119  7376.0      IR    Tehran          Line 6        NaN     2020  0.0   \n",
       "120  7377.0      IR    Tehran          Line 7        NaN     2019  0.0   \n",
       "204  7545.0      IN    Nagpur         Phase 2        NaN      NaN  0.0   \n",
       "271  7712.0      CN  Shenzhen  Line 3 Phase 4        NaN     2022  0.0   \n",
       "277  7722.0      CN  Shenzhen  Line 8 Phase 3        NaN     2025  0.0   \n",
       "\n",
       "     length tunnel_per  tunnel  stations source1        cost currency    year  \\\n",
       "119   31.00    100.00%   31.00      29.0   Media  90000000.0      IRR  2017.0   \n",
       "120   27.00    100.00%   27.00      25.0   Media  90000000.0      IRR  2017.0   \n",
       "204   43.80      0.00%    0.00      32.0    Plan    112160.0      INR  2018.0   \n",
       "271    9.35     79.36%    7.42       7.0    Plan     10785.0      CNY  2020.0   \n",
       "277    4.26    100.00%    4.26       NaN    Plan      8318.0      CNY  2020.0   \n",
       "\n",
       "     ppp_rate real_cost  cost_km_millions source2  \\\n",
       "119  0.000064      5760        185.806452   Media   \n",
       "120  0.000064      5760        213.333333   Media   \n",
       "204  0.048000   5383.68        122.915069   Media   \n",
       "271  0.238200   2568.99        274.760000    Plan   \n",
       "277  0.238200   1981.35        465.110000    Plan   \n",
       "\n",
       "                                             reference  \n",
       "119  https://financialtribune.com/articles/auto/786...  \n",
       "120  https://financialtribune.com/articles/auto/786...  \n",
       "204  https://timesofindia.indiatimes.com/city/nagpu...  \n",
       "271  https://www.ndrc.gov.cn/xxgk/zcfb/ghwb/201707/...  \n",
       "277  https://www.ndrc.gov.cn/xxgk/zcfb/ghwb/201707/...  "
      ]
     },
     "execution_count": 11,
     "metadata": {},
     "output_type": "execute_result"
    }
   ],
   "source": [
    "list.head()"
   ]
  },
  {
   "cell_type": "code",
   "execution_count": 12,
   "metadata": {},
   "outputs": [],
   "source": [
    "new = new[new.start_year.notnull()] #look up better way in final go through\n",
    "new = new[new.end_year.notnull()]"
   ]
  },
  {
   "cell_type": "code",
   "execution_count": 13,
   "metadata": {},
   "outputs": [],
   "source": [
    "#new.isnull().sum()"
   ]
  },
  {
   "cell_type": "markdown",
   "metadata": {},
   "source": [
    "Next, we are going to decide some columns to drop. Looking at the column information, the different sources were meant to list out where the data creators got each bit of information from. In this project, we are going to assume all sources are credible and can therefore remove that information. I am also going to remove all null values and focus on a limited number of coluns. I may change this in a later iteration. "
   ]
  },
  {
   "cell_type": "code",
   "execution_count": 14,
   "metadata": {},
   "outputs": [],
   "source": [
    "final_df = new.dropna()"
   ]
  },
  {
   "cell_type": "code",
   "execution_count": 15,
   "metadata": {},
   "outputs": [],
   "source": [
    "final_df = final_df[['e','country','city','line','start_year','end_year','rr','length','tunnel_per','tunnel','stations','cost','currency','year','real_cost','cost_km_millions']]"
   ]
  },
  {
   "cell_type": "code",
   "execution_count": 16,
   "metadata": {},
   "outputs": [
    {
     "data": {
      "text/html": [
       "<div>\n",
       "<style scoped>\n",
       "    .dataframe tbody tr th:only-of-type {\n",
       "        vertical-align: middle;\n",
       "    }\n",
       "\n",
       "    .dataframe tbody tr th {\n",
       "        vertical-align: top;\n",
       "    }\n",
       "\n",
       "    .dataframe thead th {\n",
       "        text-align: right;\n",
       "    }\n",
       "</style>\n",
       "<table border=\"1\" class=\"dataframe\">\n",
       "  <thead>\n",
       "    <tr style=\"text-align: right;\">\n",
       "      <th></th>\n",
       "      <th>e</th>\n",
       "      <th>country</th>\n",
       "      <th>city</th>\n",
       "      <th>line</th>\n",
       "      <th>start_year</th>\n",
       "      <th>end_year</th>\n",
       "      <th>rr</th>\n",
       "      <th>length</th>\n",
       "      <th>tunnel_per</th>\n",
       "      <th>tunnel</th>\n",
       "      <th>stations</th>\n",
       "      <th>cost</th>\n",
       "      <th>currency</th>\n",
       "      <th>year</th>\n",
       "      <th>real_cost</th>\n",
       "      <th>cost_km_millions</th>\n",
       "    </tr>\n",
       "  </thead>\n",
       "  <tbody>\n",
       "    <tr>\n",
       "      <th>0</th>\n",
       "      <td>7136.0</td>\n",
       "      <td>CA</td>\n",
       "      <td>Vancouver</td>\n",
       "      <td>Broadway</td>\n",
       "      <td>2020</td>\n",
       "      <td>2025</td>\n",
       "      <td>0.0</td>\n",
       "      <td>5.7</td>\n",
       "      <td>87.72%</td>\n",
       "      <td>5.0</td>\n",
       "      <td>6.0</td>\n",
       "      <td>2830.0</td>\n",
       "      <td>CAD</td>\n",
       "      <td>2018.0</td>\n",
       "      <td>2377.2</td>\n",
       "      <td>417.052632</td>\n",
       "    </tr>\n",
       "    <tr>\n",
       "      <th>1</th>\n",
       "      <td>7137.0</td>\n",
       "      <td>CA</td>\n",
       "      <td>Toronto</td>\n",
       "      <td>Vaughan</td>\n",
       "      <td>2009</td>\n",
       "      <td>2017</td>\n",
       "      <td>0.0</td>\n",
       "      <td>8.6</td>\n",
       "      <td>100.00%</td>\n",
       "      <td>8.6</td>\n",
       "      <td>6.0</td>\n",
       "      <td>3200.0</td>\n",
       "      <td>CAD</td>\n",
       "      <td>2013.0</td>\n",
       "      <td>2592</td>\n",
       "      <td>301.395349</td>\n",
       "    </tr>\n",
       "    <tr>\n",
       "      <th>2</th>\n",
       "      <td>7138.0</td>\n",
       "      <td>CA</td>\n",
       "      <td>Toronto</td>\n",
       "      <td>Scarborough</td>\n",
       "      <td>2020</td>\n",
       "      <td>2030</td>\n",
       "      <td>0.0</td>\n",
       "      <td>7.8</td>\n",
       "      <td>100.00%</td>\n",
       "      <td>7.8</td>\n",
       "      <td>3.0</td>\n",
       "      <td>5500.0</td>\n",
       "      <td>CAD</td>\n",
       "      <td>2018.0</td>\n",
       "      <td>4620</td>\n",
       "      <td>592.307692</td>\n",
       "    </tr>\n",
       "    <tr>\n",
       "      <th>3</th>\n",
       "      <td>7139.0</td>\n",
       "      <td>CA</td>\n",
       "      <td>Toronto</td>\n",
       "      <td>Ontario</td>\n",
       "      <td>2020</td>\n",
       "      <td>2030</td>\n",
       "      <td>0.0</td>\n",
       "      <td>15.5</td>\n",
       "      <td>57.00%</td>\n",
       "      <td>8.8</td>\n",
       "      <td>15.0</td>\n",
       "      <td>8573.0</td>\n",
       "      <td>CAD</td>\n",
       "      <td>2019.0</td>\n",
       "      <td>7201.32</td>\n",
       "      <td>464.601290</td>\n",
       "    </tr>\n",
       "    <tr>\n",
       "      <th>4</th>\n",
       "      <td>7144.0</td>\n",
       "      <td>CA</td>\n",
       "      <td>Toronto</td>\n",
       "      <td>Yonge to Richmond Hill</td>\n",
       "      <td>2020</td>\n",
       "      <td>2030</td>\n",
       "      <td>0.0</td>\n",
       "      <td>7.4</td>\n",
       "      <td>100.00%</td>\n",
       "      <td>7.4</td>\n",
       "      <td>6.0</td>\n",
       "      <td>5600.0</td>\n",
       "      <td>CAD</td>\n",
       "      <td>2020.0</td>\n",
       "      <td>4704</td>\n",
       "      <td>635.675676</td>\n",
       "    </tr>\n",
       "  </tbody>\n",
       "</table>\n",
       "</div>"
      ],
      "text/plain": [
       "        e country       city                    line start_year end_year   rr  \\\n",
       "0  7136.0      CA  Vancouver                Broadway       2020     2025  0.0   \n",
       "1  7137.0      CA    Toronto                 Vaughan       2009     2017  0.0   \n",
       "2  7138.0      CA    Toronto             Scarborough       2020     2030  0.0   \n",
       "3  7139.0      CA    Toronto                 Ontario       2020     2030  0.0   \n",
       "4  7144.0      CA    Toronto  Yonge to Richmond Hill       2020     2030  0.0   \n",
       "\n",
       "   length tunnel_per  tunnel  stations    cost currency    year real_cost  \\\n",
       "0     5.7     87.72%     5.0       6.0  2830.0      CAD  2018.0    2377.2   \n",
       "1     8.6    100.00%     8.6       6.0  3200.0      CAD  2013.0      2592   \n",
       "2     7.8    100.00%     7.8       3.0  5500.0      CAD  2018.0      4620   \n",
       "3    15.5     57.00%     8.8      15.0  8573.0      CAD  2019.0   7201.32   \n",
       "4     7.4    100.00%     7.4       6.0  5600.0      CAD  2020.0      4704   \n",
       "\n",
       "   cost_km_millions  \n",
       "0        417.052632  \n",
       "1        301.395349  \n",
       "2        592.307692  \n",
       "3        464.601290  \n",
       "4        635.675676  "
      ]
     },
     "execution_count": 16,
     "metadata": {},
     "output_type": "execute_result"
    }
   ],
   "source": [
    "final_df.head()"
   ]
  },
  {
   "cell_type": "markdown",
   "metadata": {},
   "source": [
    "## Starter Visuals\n",
    "\n",
    "I am going to make some basic starter aggregation visuals through pandas aggregation to see what path I want to explore for my final visualizations. "
   ]
  },
  {
   "cell_type": "code",
   "execution_count": 17,
   "metadata": {},
   "outputs": [],
   "source": [
    "# Quick look into how group by works \n",
    "grouped = final_df.groupby('city')"
   ]
  },
  {
   "cell_type": "code",
   "execution_count": 18,
   "metadata": {},
   "outputs": [
    {
     "data": {
      "text/html": [
       "<div>\n",
       "<style scoped>\n",
       "    .dataframe tbody tr th:only-of-type {\n",
       "        vertical-align: middle;\n",
       "    }\n",
       "\n",
       "    .dataframe tbody tr th {\n",
       "        vertical-align: top;\n",
       "    }\n",
       "\n",
       "    .dataframe thead th {\n",
       "        text-align: right;\n",
       "    }\n",
       "</style>\n",
       "<table border=\"1\" class=\"dataframe\">\n",
       "  <thead>\n",
       "    <tr style=\"text-align: right;\">\n",
       "      <th></th>\n",
       "      <th>e</th>\n",
       "      <th>country</th>\n",
       "      <th>city</th>\n",
       "      <th>line</th>\n",
       "      <th>start_year</th>\n",
       "      <th>end_year</th>\n",
       "      <th>rr</th>\n",
       "      <th>length</th>\n",
       "      <th>tunnel_per</th>\n",
       "      <th>tunnel</th>\n",
       "      <th>stations</th>\n",
       "      <th>cost</th>\n",
       "      <th>currency</th>\n",
       "      <th>year</th>\n",
       "      <th>real_cost</th>\n",
       "      <th>cost_km_millions</th>\n",
       "    </tr>\n",
       "  </thead>\n",
       "  <tbody>\n",
       "    <tr>\n",
       "      <th>135</th>\n",
       "      <td>7408.0</td>\n",
       "      <td>US</td>\n",
       "      <td>New York</td>\n",
       "      <td>7 extension</td>\n",
       "      <td>2007</td>\n",
       "      <td>2014</td>\n",
       "      <td>0.0</td>\n",
       "      <td>1.6</td>\n",
       "      <td>100.00%</td>\n",
       "      <td>1.6</td>\n",
       "      <td>1.0</td>\n",
       "      <td>2400.0</td>\n",
       "      <td>USD</td>\n",
       "      <td>2011.0</td>\n",
       "      <td>2400</td>\n",
       "      <td>1500.000000</td>\n",
       "    </tr>\n",
       "    <tr>\n",
       "      <th>136</th>\n",
       "      <td>7409.0</td>\n",
       "      <td>US</td>\n",
       "      <td>New York</td>\n",
       "      <td>Second Avenue Phase 1</td>\n",
       "      <td>2007</td>\n",
       "      <td>2016</td>\n",
       "      <td>0.0</td>\n",
       "      <td>2.7</td>\n",
       "      <td>100.00%</td>\n",
       "      <td>2.7</td>\n",
       "      <td>3.0</td>\n",
       "      <td>4450.0</td>\n",
       "      <td>USD</td>\n",
       "      <td>2012.0</td>\n",
       "      <td>4450</td>\n",
       "      <td>1648.148148</td>\n",
       "    </tr>\n",
       "    <tr>\n",
       "      <th>137</th>\n",
       "      <td>7410.0</td>\n",
       "      <td>US</td>\n",
       "      <td>New York</td>\n",
       "      <td>Second Avenue Phase 2</td>\n",
       "      <td>2019</td>\n",
       "      <td>2029</td>\n",
       "      <td>0.0</td>\n",
       "      <td>2.6</td>\n",
       "      <td>100.00%</td>\n",
       "      <td>2.6</td>\n",
       "      <td>3.0</td>\n",
       "      <td>6390.0</td>\n",
       "      <td>USD</td>\n",
       "      <td>2024.0</td>\n",
       "      <td>6390</td>\n",
       "      <td>2457.692308</td>\n",
       "    </tr>\n",
       "    <tr>\n",
       "      <th>138</th>\n",
       "      <td>7411.0</td>\n",
       "      <td>US</td>\n",
       "      <td>New York</td>\n",
       "      <td>East Side Access</td>\n",
       "      <td>2007</td>\n",
       "      <td>2022</td>\n",
       "      <td>1.0</td>\n",
       "      <td>2.8</td>\n",
       "      <td>100.00%</td>\n",
       "      <td>2.8</td>\n",
       "      <td>1.0</td>\n",
       "      <td>11000.0</td>\n",
       "      <td>USD</td>\n",
       "      <td>2015.0</td>\n",
       "      <td>11000</td>\n",
       "      <td>3928.571429</td>\n",
       "    </tr>\n",
       "    <tr>\n",
       "      <th>139</th>\n",
       "      <td>7416.0</td>\n",
       "      <td>US</td>\n",
       "      <td>New York</td>\n",
       "      <td>Gateway</td>\n",
       "      <td>2019</td>\n",
       "      <td>2026</td>\n",
       "      <td>1.0</td>\n",
       "      <td>5.3</td>\n",
       "      <td>100.00%</td>\n",
       "      <td>5.3</td>\n",
       "      <td>0.0</td>\n",
       "      <td>9500.0</td>\n",
       "      <td>USD</td>\n",
       "      <td>2023.0</td>\n",
       "      <td>9500</td>\n",
       "      <td>1792.452830</td>\n",
       "    </tr>\n",
       "  </tbody>\n",
       "</table>\n",
       "</div>"
      ],
      "text/plain": [
       "          e country      city                   line start_year end_year   rr  \\\n",
       "135  7408.0      US  New York            7 extension       2007     2014  0.0   \n",
       "136  7409.0      US  New York  Second Avenue Phase 1       2007     2016  0.0   \n",
       "137  7410.0      US  New York  Second Avenue Phase 2       2019     2029  0.0   \n",
       "138  7411.0      US  New York       East Side Access       2007     2022  1.0   \n",
       "139  7416.0      US  New York                Gateway       2019     2026  1.0   \n",
       "\n",
       "     length tunnel_per  tunnel  stations     cost currency    year real_cost  \\\n",
       "135     1.6    100.00%     1.6       1.0   2400.0      USD  2011.0      2400   \n",
       "136     2.7    100.00%     2.7       3.0   4450.0      USD  2012.0      4450   \n",
       "137     2.6    100.00%     2.6       3.0   6390.0      USD  2024.0      6390   \n",
       "138     2.8    100.00%     2.8       1.0  11000.0      USD  2015.0     11000   \n",
       "139     5.3    100.00%     5.3       0.0   9500.0      USD  2023.0      9500   \n",
       "\n",
       "     cost_km_millions  \n",
       "135       1500.000000  \n",
       "136       1648.148148  \n",
       "137       2457.692308  \n",
       "138       3928.571429  \n",
       "139       1792.452830  "
      ]
     },
     "execution_count": 18,
     "metadata": {},
     "output_type": "execute_result"
    }
   ],
   "source": [
    "grouped.get_group('New York')"
   ]
  },
  {
   "cell_type": "code",
   "execution_count": 19,
   "metadata": {},
   "outputs": [],
   "source": [
    "# US Cities\n",
    "\n",
    "us_df = final_df[final_df['country']=='US']"
   ]
  },
  {
   "cell_type": "markdown",
   "metadata": {},
   "source": [
    "Since this was a project initially meant to analyze the Boston Green Line, I am going to start by looking at the average cost per length for different cities. Thanks to properties of the mean, I am able to take the average of both columns individually and then divide in a seperate step. By visualizing both the country and city, I am looking for interesting aspects of the data to explore"
   ]
  },
  {
   "cell_type": "code",
   "execution_count": 71,
   "metadata": {},
   "outputs": [],
   "source": [
    "# groupby city and country to get the mean cost and length\n",
    "\n",
    "l = us_df.groupby(['city','country']).agg({'cost_km_millions': 'mean','length':'mean'})\n",
    "l = l.reset_index()\n",
    "l['len_cost'] = l['cost_km_millions']/l['length']\n",
    "\n",
    "m = final_df.groupby(['city','country']).agg({'cost_km_millions': 'mean','length':'mean'})\n",
    "m = m.reset_index()\n",
    "m['len_cost'] = m['cost_km_millions']/m['length']\n",
    "\n",
    "\n"
   ]
  },
  {
   "cell_type": "code",
   "execution_count": 72,
   "metadata": {},
   "outputs": [
    {
     "data": {
      "image/png": "[encoded data removed]",
      "text/plain": [
       "<Figure size 2160x720 with 1 Axes>"
      ]
     },
     "metadata": {},
     "output_type": "display_data"
    }
   ],
   "source": [
    "# Create the plot\n",
    "\n",
    "fig, ax = plt.subplots(figsize=(30,10))\n",
    "ax = sns.barplot(x = 'city', y='len_cost', data = l)\n",
    "plt.xticks(fontsize=14)\n",
    "plt.yticks(fontsize=14)\n",
    "\n",
    "# labels and title\n",
    "plt.xlabel('City', fontsize=20)\n",
    "plt.ylabel('Average Cost per KM in Millions', fontsize=20)\n",
    "plt.title('Relationship between City and Average Cost', fontsize=20);"
   ]
  },
  {
   "cell_type": "markdown",
   "metadata": {},
   "source": [
    "After looking at this data, I found that there are some key interesting indicators. "
   ]
  },
  {
   "cell_type": "code",
   "execution_count": 73,
   "metadata": {},
   "outputs": [],
   "source": [
    "def clean_code(code):\n",
    "    # if Code is UK change it to GB\n",
    "    if code == 'UK':\n",
    "        code = 'GB'\n",
    "    # Clean up the alphanumeric country codes\n",
    "    return code[:2]\n",
    "    \n",
    "m['country'] = m.country.apply(lambda x :clean_code(x))"
   ]
  },
  {
   "cell_type": "code",
   "execution_count": 74,
   "metadata": {},
   "outputs": [],
   "source": [
    "from pycountry_convert import country_alpha2_to_country_name, country_name_to_country_alpha3\n",
    "\n",
    "m['country_alpha_3'] = m.country.apply(lambda x: country_name_to_country_alpha3(country_alpha2_to_country_name(x)))"
   ]
  },
  {
   "cell_type": "code",
   "execution_count": 75,
   "metadata": {},
   "outputs": [
    {
     "data": {
      "application/vnd.plotly.v1+json": {
       "config": {
        "plotlyServerURL": "https://plot.ly"
       },
       "data": [
        {
         "coloraxis": "coloraxis",
         "geo": "geo",
         "hovertemplate": "<b>%{hovertext}</b><br><br>country_alpha_3=%{location}<br>len_cost=%{z}<extra></extra>",
         "hovertext": [
          "IN",
          "NL",
          "TR",
          "GR",
          "NZ",
          "IN",
          "TH",
          "ES",
          "CN",
          "DE",
          "ES",
          "US",
          "BE",
          "RO",
          "HU",
          "AR",
          "TR",
          "KR",
          "EG",
          "CN",
          "CN",
          "CN",
          "IN",
          "TH",
          "CN",
          "DE",
          "DK",
          "IN",
          "BD",
          "CN",
          "AE",
          "DE",
          "DE",
          "JP",
          "CN",
          "CH",
          "MX",
          "CN",
          "CN",
          "IN",
          "DE",
          "CN",
          "VN",
          "CN",
          "FI",
          "VN",
          "IN",
          "TR",
          "TR",
          "ID",
          "SA",
          "TW",
          "DE",
          "UA",
          "IN",
          "MY",
          "CN",
          "KW",
          "UA",
          "PK",
          "CN",
          "DE",
          "PE",
          "PT",
          "GB",
          "US",
          "CH",
          "FR",
          "ES",
          "ES",
          "SE",
          "PH",
          "AU",
          "MX",
          "IT",
          "CA",
          "RU",
          "IN",
          "IN",
          "CN",
          "CN",
          "CN",
          "US",
          "RU",
          "DE",
          "JP",
          "NO",
          "CA",
          "PA",
          "FR",
          "AU",
          "PT",
          "CZ",
          "EC",
          "SA",
          "IT",
          "RU",
          "BR",
          "US",
          "US",
          "CL",
          "BR",
          "US",
          "KR",
          "ES",
          "CN",
          "CN",
          "CN",
          "SG",
          "BG",
          "SE",
          "CN",
          "AU",
          "TW",
          "TW",
          "TW",
          "UZ",
          "IR",
          "IL",
          "GR",
          "CN",
          "JP",
          "CA",
          "FR",
          "IT",
          "CA",
          "AT",
          "PL",
          "CN",
          "CN",
          "CN",
          "CN",
          "CN",
          "CH"
         ],
         "locations": [
          "IND",
          "NLD",
          "TUR",
          "GRC",
          "NZL",
          "IND",
          "THA",
          "ESP",
          "CHN",
          "DEU",
          "ESP",
          "USA",
          "BEL",
          "ROU",
          "HUN",
          "ARG",
          "TUR",
          "KOR",
          "EGY",
          "CHN",
          "CHN",
          "CHN",
          "IND",
          "THA",
          "CHN",
          "DEU",
          "DNK",
          "IND",
          "BGD",
          "CHN",
          "ARE",
          "DEU",
          "DEU",
          "JPN",
          "CHN",
          "CHE",
          "MEX",
          "CHN",
          "CHN",
          "IND",
          "DEU",
          "CHN",
          "VNM",
          "CHN",
          "FIN",
          "VNM",
          "IND",
          "TUR",
          "TUR",
          "IDN",
          "SAU",
          "TWN",
          "DEU",
          "UKR",
          "IND",
          "MYS",
          "CHN",
          "KWT",
          "UKR",
          "PAK",
          "CHN",
          "DEU",
          "PER",
          "PRT",
          "GBR",
          "USA",
          "CHE",
          "FRA",
          "ESP",
          "ESP",
          "SWE",
          "PHL",
          "AUS",
          "MEX",
          "ITA",
          "CAN",
          "RUS",
          "IND",
          "IND",
          "CHN",
          "CHN",
          "CHN",
          "USA",
          "RUS",
          "DEU",
          "JPN",
          "NOR",
          "CAN",
          "PAN",
          "FRA",
          "AUS",
          "PRT",
          "CZE",
          "ECU",
          "SAU",
          "ITA",
          "RUS",
          "BRA",
          "USA",
          "USA",
          "CHL",
          "BRA",
          "USA",
          "KOR",
          "ESP",
          "CHN",
          "CHN",
          "CHN",
          "SGP",
          "BGR",
          "SWE",
          "CHN",
          "AUS",
          "TWN",
          "TWN",
          "TWN",
          "UZB",
          "IRN",
          "ISR",
          "GRC",
          "CHN",
          "JPN",
          "CAN",
          "FRA",
          "ITA",
          "CAN",
          "AUT",
          "POL",
          "CHN",
          "CHN",
          "CHN",
          "CHN",
          "CHN",
          "CHE"
         ],
         "name": "",
         "type": "choropleth",
         "z": [
          3.730625,
          42.831331701030926,
          12.940347071583513,
          12.833139833333334,
          244.21738774285717,
          3.5556499922547324,
          8.938748649529781,
          12.769593437864081,
          7.79489749813874,
          97.24597161904761,
          10.41941970677966,
          39.62950138157895,
          60.43388429545455,
          39.08237765217391,
          65.37326516216216,
          11.615,
          0.5866666666666667,
          17.23203125,
          50.915043837944665,
          8.557382953181273,
          10.640597731239088,
          7.973393951373791,
          4.11199725361063,
          8.760615284810125,
          6.755174063883239,
          84.5,
          14.532362122580647,
          2.1059391507936507,
          22.095489391242936,
          6.263987061219599,
          24.488888886666665,
          104.47231835294116,
          66.60493825925926,
          229.296875,
          6.451735722284434,
          13.759814045454544,
          7.22336398139535,
          7.511629626890508,
          5.201710478337257,
          27.677736203389827,
          55.14743590384616,
          7.288540972684876,
          24.047282608333333,
          4.834122807017544,
          5.399776601904763,
          35.163609105263156,
          1.8132716055555553,
          6.4309961275438745,
          10.540104166666667,
          11.904348694267517,
          0.6635017405338299,
          12.167281539383561,
          82.22612847916666,
          121.61632654285712,
          15.941538461538462,
          6.760091321705426,
          6.75146909827761,
          1.1875,
          20.92773406329114,
          8.222927247232473,
          9.813888888888888,
          96.29629630555556,
          9.051755102857145,
          70.2,
          44.661458333333336,
          137.04873515730335,
          66.54933333333334,
          81.40817609433964,
          2.8442689204980844,
          8.85738899115044,
          3.0993079582352943,
          21.551165196911196,
          93.70370369999998,
          10.375310285714285,
          12.610721029411764,
          69.79747407272727,
          5.644220010217114,
          10.693261879423869,
          3.2120830026178004,
          12.588828828828829,
          10.174582798459562,
          9.645800524934383,
          755.1243143333332,
          72.16,
          496.52777783333335,
          14.459053782594937,
          28.986296040816327,
          11.1552,
          10.656856115635177,
          9.235608165725125,
          17.7633218,
          11.122222221666666,
          40.82343455737705,
          7.282469825327512,
          7.898036437458634,
          53.355729505952375,
          51.67708333333333,
          2.7327823690909088,
          229.08093277777772,
          74.86979166666667,
          5.447057611650485,
          20.85700277419355,
          67.51249519607843,
          3.9386691491064494,
          3.366139354945055,
          6.799446528831058,
          10.957333333333334,
          8.910452107895319,
          29.45455409223847,
          14.620991233333331,
          24.57166059695818,
          4.828070175438596,
          7.666666666666667,
          14.127350568862274,
          28.99321831707317,
          10.840526992582468,
          31.531325889999998,
          16.666666666666668,
          5.357722634185303,
          21.37978469230769,
          6.824041034790366,
          16.287482371380698,
          37.19089420376175,
          4.7613168740740734,
          18.80039117837838,
          73.16712835087719,
          32.55770076256983,
          64.63130732352941,
          1.7293457943925232,
          8.102196451963401,
          8.66950146627566,
          4.518988173455979,
          2.8824807426427017,
          14.978298614583332
         ]
        }
       ],
       "layout": {
        "coloraxis": {
         "colorbar": {
          "title": {
           "text": "len_cost"
          }
         },
         "colorscale": [
          [
           0,
           "#0d0887"
          ],
          [
           0.1111111111111111,
           "#46039f"
          ],
          [
           0.2222222222222222,
           "#7201a8"
          ],
          [
           0.3333333333333333,
           "#9c179e"
          ],
          [
           0.4444444444444444,
           "#bd3786"
          ],
          [
           0.5555555555555556,
           "#d8576b"
          ],
          [
           0.6666666666666666,
           "#ed7953"
          ],
          [
           0.7777777777777778,
           "#fb9f3a"
          ],
          [
           0.8888888888888888,
           "#fdca26"
          ],
          [
           1,
           "#f0f921"
          ]
         ]
        },
        "geo": {
         "center": {},
         "domain": {
          "x": [
           0,
           1
          ],
          "y": [
           0,
           1
          ]
         }
        },
        "legend": {
         "tracegroupgap": 0
        },
        "margin": {
         "t": 60
        },
        "template": {
         "data": {
          "bar": [
           {
            "error_x": {
             "color": "#2a3f5f"
            },
            "error_y": {
             "color": "#2a3f5f"
            },
            "marker": {
             "line": {
              "color": "#E5ECF6",
              "width": 0.5
             }
            },
            "type": "bar"
           }
          ],
          "barpolar": [
           {
            "marker": {
             "line": {
              "color": "#E5ECF6",
              "width": 0.5
             }
            },
            "type": "barpolar"
           }
          ],
          "carpet": [
           {
            "aaxis": {
             "endlinecolor": "#2a3f5f",
             "gridcolor": "white",
             "linecolor": "white",
             "minorgridcolor": "white",
             "startlinecolor": "#2a3f5f"
            },
            "baxis": {
             "endlinecolor": "#2a3f5f",
             "gridcolor": "white",
             "linecolor": "white",
             "minorgridcolor": "white",
             "startlinecolor": "#2a3f5f"
            },
            "type": "carpet"
           }
          ],
          "choropleth": [
           {
            "colorbar": {
             "outlinewidth": 0,
             "ticks": ""
            },
            "type": "choropleth"
           }
          ],
          "contour": [
           {
            "colorbar": {
             "outlinewidth": 0,
             "ticks": ""
            },
            "colorscale": [
             [
              0,
              "#0d0887"
             ],
             [
              0.1111111111111111,
              "#46039f"
             ],
             [
              0.2222222222222222,
              "#7201a8"
             ],
             [
              0.3333333333333333,
              "#9c179e"
             ],
             [
              0.4444444444444444,
              "#bd3786"
             ],
             [
              0.5555555555555556,
              "#d8576b"
             ],
             [
              0.6666666666666666,
              "#ed7953"
             ],
             [
              0.7777777777777778,
              "#fb9f3a"
             ],
             [
              0.8888888888888888,
              "#fdca26"
             ],
             [
              1,
              "#f0f921"
             ]
            ],
            "type": "contour"
           }
          ],
          "contourcarpet": [
           {
            "colorbar": {
             "outlinewidth": 0,
             "ticks": ""
            },
            "type": "contourcarpet"
           }
          ],
          "heatmap": [
           {
            "colorbar": {
             "outlinewidth": 0,
             "ticks": ""
            },
            "colorscale": [
             [
              0,
              "#0d0887"
             ],
             [
              0.1111111111111111,
              "#46039f"
             ],
             [
              0.2222222222222222,
              "#7201a8"
             ],
             [
              0.3333333333333333,
              "#9c179e"
             ],
             [
              0.4444444444444444,
              "#bd3786"
             ],
             [
              0.5555555555555556,
              "#d8576b"
             ],
             [
              0.6666666666666666,
              "#ed7953"
             ],
             [
              0.7777777777777778,
              "#fb9f3a"
             ],
             [
              0.8888888888888888,
              "#fdca26"
             ],
             [
              1,
              "#f0f921"
             ]
            ],
            "type": "heatmap"
           }
          ],
          "heatmapgl": [
           {
            "colorbar": {
             "outlinewidth": 0,
             "ticks": ""
            },
            "colorscale": [
             [
              0,
              "#0d0887"
             ],
             [
              0.1111111111111111,
              "#46039f"
             ],
             [
              0.2222222222222222,
              "#7201a8"
             ],
             [
              0.3333333333333333,
              "#9c179e"
             ],
             [
              0.4444444444444444,
              "#bd3786"
             ],
             [
              0.5555555555555556,
              "#d8576b"
             ],
             [
              0.6666666666666666,
              "#ed7953"
             ],
             [
              0.7777777777777778,
              "#fb9f3a"
             ],
             [
              0.8888888888888888,
              "#fdca26"
             ],
             [
              1,
              "#f0f921"
             ]
            ],
            "type": "heatmapgl"
           }
          ],
          "histogram": [
           {
            "marker": {
             "colorbar": {
              "outlinewidth": 0,
              "ticks": ""
             }
            },
            "type": "histogram"
           }
          ],
          "histogram2d": [
           {
            "colorbar": {
             "outlinewidth": 0,
             "ticks": ""
            },
            "colorscale": [
             [
              0,
              "#0d0887"
             ],
             [
              0.1111111111111111,
              "#46039f"
             ],
             [
              0.2222222222222222,
              "#7201a8"
             ],
             [
              0.3333333333333333,
              "#9c179e"
             ],
             [
              0.4444444444444444,
              "#bd3786"
             ],
             [
              0.5555555555555556,
              "#d8576b"
             ],
             [
              0.6666666666666666,
              "#ed7953"
             ],
             [
              0.7777777777777778,
              "#fb9f3a"
             ],
             [
              0.8888888888888888,
              "#fdca26"
             ],
             [
              1,
              "#f0f921"
             ]
            ],
            "type": "histogram2d"
           }
          ],
          "histogram2dcontour": [
           {
            "colorbar": {
             "outlinewidth": 0,
             "ticks": ""
            },
            "colorscale": [
             [
              0,
              "#0d0887"
             ],
             [
              0.1111111111111111,
              "#46039f"
             ],
             [
              0.2222222222222222,
              "#7201a8"
             ],
             [
              0.3333333333333333,
              "#9c179e"
             ],
             [
              0.4444444444444444,
              "#bd3786"
             ],
             [
              0.5555555555555556,
              "#d8576b"
             ],
             [
              0.6666666666666666,
              "#ed7953"
             ],
             [
              0.7777777777777778,
              "#fb9f3a"
             ],
             [
              0.8888888888888888,
              "#fdca26"
             ],
             [
              1,
              "#f0f921"
             ]
            ],
            "type": "histogram2dcontour"
           }
          ],
          "mesh3d": [
           {
            "colorbar": {
             "outlinewidth": 0,
             "ticks": ""
            },
            "type": "mesh3d"
           }
          ],
          "parcoords": [
           {
            "line": {
             "colorbar": {
              "outlinewidth": 0,
              "ticks": ""
             }
            },
            "type": "parcoords"
           }
          ],
          "pie": [
           {
            "automargin": true,
            "type": "pie"
           }
          ],
          "scatter": [
           {
            "marker": {
             "colorbar": {
              "outlinewidth": 0,
              "ticks": ""
             }
            },
            "type": "scatter"
           }
          ],
          "scatter3d": [
           {
            "line": {
             "colorbar": {
              "outlinewidth": 0,
              "ticks": ""
             }
            },
            "marker": {
             "colorbar": {
              "outlinewidth": 0,
              "ticks": ""
             }
            },
            "type": "scatter3d"
           }
          ],
          "scattercarpet": [
           {
            "marker": {
             "colorbar": {
              "outlinewidth": 0,
              "ticks": ""
             }
            },
            "type": "scattercarpet"
           }
          ],
          "scattergeo": [
           {
            "marker": {
             "colorbar": {
              "outlinewidth": 0,
              "ticks": ""
             }
            },
            "type": "scattergeo"
           }
          ],
          "scattergl": [
           {
            "marker": {
             "colorbar": {
              "outlinewidth": 0,
              "ticks": ""
             }
            },
            "type": "scattergl"
           }
          ],
          "scattermapbox": [
           {
            "marker": {
             "colorbar": {
              "outlinewidth": 0,
              "ticks": ""
             }
            },
            "type": "scattermapbox"
           }
          ],
          "scatterpolar": [
           {
            "marker": {
             "colorbar": {
              "outlinewidth": 0,
              "ticks": ""
             }
            },
            "type": "scatterpolar"
           }
          ],
          "scatterpolargl": [
           {
            "marker": {
             "colorbar": {
              "outlinewidth": 0,
              "ticks": ""
             }
            },
            "type": "scatterpolargl"
           }
          ],
          "scatterternary": [
           {
            "marker": {
             "colorbar": {
              "outlinewidth": 0,
              "ticks": ""
             }
            },
            "type": "scatterternary"
           }
          ],
          "surface": [
           {
            "colorbar": {
             "outlinewidth": 0,
             "ticks": ""
            },
            "colorscale": [
             [
              0,
              "#0d0887"
             ],
             [
              0.1111111111111111,
              "#46039f"
             ],
             [
              0.2222222222222222,
              "#7201a8"
             ],
             [
              0.3333333333333333,
              "#9c179e"
             ],
             [
              0.4444444444444444,
              "#bd3786"
             ],
             [
              0.5555555555555556,
              "#d8576b"
             ],
             [
              0.6666666666666666,
              "#ed7953"
             ],
             [
              0.7777777777777778,
              "#fb9f3a"
             ],
             [
              0.8888888888888888,
              "#fdca26"
             ],
             [
              1,
              "#f0f921"
             ]
            ],
            "type": "surface"
           }
          ],
          "table": [
           {
            "cells": {
             "fill": {
              "color": "#EBF0F8"
             },
             "line": {
              "color": "white"
             }
            },
            "header": {
             "fill": {
              "color": "#C8D4E3"
             },
             "line": {
              "color": "white"
             }
            },
            "type": "table"
           }
          ]
         },
         "layout": {
          "annotationdefaults": {
           "arrowcolor": "#2a3f5f",
           "arrowhead": 0,
           "arrowwidth": 1
          },
          "coloraxis": {
           "colorbar": {
            "outlinewidth": 0,
            "ticks": ""
           }
          },
          "colorscale": {
           "diverging": [
            [
             0,
             "#8e0152"
            ],
            [
             0.1,
             "#c51b7d"
            ],
            [
             0.2,
             "#de77ae"
            ],
            [
             0.3,
             "#f1b6da"
            ],
            [
             0.4,
             "#fde0ef"
            ],
            [
             0.5,
             "#f7f7f7"
            ],
            [
             0.6,
             "#e6f5d0"
            ],
            [
             0.7,
             "#b8e186"
            ],
            [
             0.8,
             "#7fbc41"
            ],
            [
             0.9,
             "#4d9221"
            ],
            [
             1,
             "#276419"
            ]
           ],
           "sequential": [
            [
             0,
             "#0d0887"
            ],
            [
             0.1111111111111111,
             "#46039f"
            ],
            [
             0.2222222222222222,
             "#7201a8"
            ],
            [
             0.3333333333333333,
             "#9c179e"
            ],
            [
             0.4444444444444444,
             "#bd3786"
            ],
            [
             0.5555555555555556,
             "#d8576b"
            ],
            [
             0.6666666666666666,
             "#ed7953"
            ],
            [
             0.7777777777777778,
             "#fb9f3a"
            ],
            [
             0.8888888888888888,
             "#fdca26"
            ],
            [
             1,
             "#f0f921"
            ]
           ],
           "sequentialminus": [
            [
             0,
             "#0d0887"
            ],
            [
             0.1111111111111111,
             "#46039f"
            ],
            [
             0.2222222222222222,
             "#7201a8"
            ],
            [
             0.3333333333333333,
             "#9c179e"
            ],
            [
             0.4444444444444444,
             "#bd3786"
            ],
            [
             0.5555555555555556,
             "#d8576b"
            ],
            [
             0.6666666666666666,
             "#ed7953"
            ],
            [
             0.7777777777777778,
             "#fb9f3a"
            ],
            [
             0.8888888888888888,
             "#fdca26"
            ],
            [
             1,
             "#f0f921"
            ]
           ]
          },
          "colorway": [
           "#636efa",
           "#EF553B",
           "#00cc96",
           "#ab63fa",
           "#FFA15A",
           "#19d3f3",
           "#FF6692",
           "#B6E880",
           "#FF97FF",
           "#FECB52"
          ],
          "font": {
           "color": "#2a3f5f"
          },
          "geo": {
           "bgcolor": "white",
           "lakecolor": "white",
           "landcolor": "#E5ECF6",
           "showlakes": true,
           "showland": true,
           "subunitcolor": "white"
          },
          "hoverlabel": {
           "align": "left"
          },
          "hovermode": "closest",
          "mapbox": {
           "style": "light"
          },
          "paper_bgcolor": "white",
          "plot_bgcolor": "#E5ECF6",
          "polar": {
           "angularaxis": {
            "gridcolor": "white",
            "linecolor": "white",
            "ticks": ""
           },
           "bgcolor": "#E5ECF6",
           "radialaxis": {
            "gridcolor": "white",
            "linecolor": "white",
            "ticks": ""
           }
          },
          "scene": {
           "xaxis": {
            "backgroundcolor": "#E5ECF6",
            "gridcolor": "white",
            "gridwidth": 2,
            "linecolor": "white",
            "showbackground": true,
            "ticks": "",
            "zerolinecolor": "white"
           },
           "yaxis": {
            "backgroundcolor": "#E5ECF6",
            "gridcolor": "white",
            "gridwidth": 2,
            "linecolor": "white",
            "showbackground": true,
            "ticks": "",
            "zerolinecolor": "white"
           },
           "zaxis": {
            "backgroundcolor": "#E5ECF6",
            "gridcolor": "white",
            "gridwidth": 2,
            "linecolor": "white",
            "showbackground": true,
            "ticks": "",
            "zerolinecolor": "white"
           }
          },
          "shapedefaults": {
           "line": {
            "color": "#2a3f5f"
           }
          },
          "ternary": {
           "aaxis": {
            "gridcolor": "white",
            "linecolor": "white",
            "ticks": ""
           },
           "baxis": {
            "gridcolor": "white",
            "linecolor": "white",
            "ticks": ""
           },
           "bgcolor": "#E5ECF6",
           "caxis": {
            "gridcolor": "white",
            "linecolor": "white",
            "ticks": ""
           }
          },
          "title": {
           "x": 0.05
          },
          "xaxis": {
           "automargin": true,
           "gridcolor": "white",
           "linecolor": "white",
           "ticks": "",
           "title": {
            "standoff": 15
           },
           "zerolinecolor": "white",
           "zerolinewidth": 2
          },
          "yaxis": {
           "automargin": true,
           "gridcolor": "white",
           "linecolor": "white",
           "ticks": "",
           "title": {
            "standoff": 15
           },
           "zerolinecolor": "white",
           "zerolinewidth": 2
          }
         }
        }
       }
      },
      "text/html": [
       "<div>\n",
       "        \n",
       "        \n",
       "            <div id=\"cb7e4da3-e30c-4bd5-a7fa-b088800365ba\" class=\"plotly-graph-div\" style=\"height:525px; width:100%;\"></div>\n",
       "            <script type=\"text/javascript\">\n",
       "                require([\"plotly\"], function(Plotly) {\n",
       "                    window.PLOTLYENV=window.PLOTLYENV || {};\n",
       "                    \n",
       "                if (document.getElementById(\"cb7e4da3-e30c-4bd5-a7fa-b088800365ba\")) {\n",
       "                    Plotly.newPlot(\n",
       "                        'cb7e4da3-e30c-4bd5-a7fa-b088800365ba',\n",
       "                        [{\"coloraxis\": \"coloraxis\", \"geo\": \"geo\", \"hovertemplate\": \"<b>%{hovertext}</b><br><br>country_alpha_3=%{location}<br>len_cost=%{z}<extra></extra>\", \"hovertext\": [\"IN\", \"NL\", \"TR\", \"GR\", \"NZ\", \"IN\", \"TH\", \"ES\", \"CN\", \"DE\", \"ES\", \"US\", \"BE\", \"RO\", \"HU\", \"AR\", \"TR\", \"KR\", \"EG\", \"CN\", \"CN\", \"CN\", \"IN\", \"TH\", \"CN\", \"DE\", \"DK\", \"IN\", \"BD\", \"CN\", \"AE\", \"DE\", \"DE\", \"JP\", \"CN\", \"CH\", \"MX\", \"CN\", \"CN\", \"IN\", \"DE\", \"CN\", \"VN\", \"CN\", \"FI\", \"VN\", \"IN\", \"TR\", \"TR\", \"ID\", \"SA\", \"TW\", \"DE\", \"UA\", \"IN\", \"MY\", \"CN\", \"KW\", \"UA\", \"PK\", \"CN\", \"DE\", \"PE\", \"PT\", \"GB\", \"US\", \"CH\", \"FR\", \"ES\", \"ES\", \"SE\", \"PH\", \"AU\", \"MX\", \"IT\", \"CA\", \"RU\", \"IN\", \"IN\", \"CN\", \"CN\", \"CN\", \"US\", \"RU\", \"DE\", \"JP\", \"NO\", \"CA\", \"PA\", \"FR\", \"AU\", \"PT\", \"CZ\", \"EC\", \"SA\", \"IT\", \"RU\", \"BR\", \"US\", \"US\", \"CL\", \"BR\", \"US\", \"KR\", \"ES\", \"CN\", \"CN\", \"CN\", \"SG\", \"BG\", \"SE\", \"CN\", \"AU\", \"TW\", \"TW\", \"TW\", \"UZ\", \"IR\", \"IL\", \"GR\", \"CN\", \"JP\", \"CA\", \"FR\", \"IT\", \"CA\", \"AT\", \"PL\", \"CN\", \"CN\", \"CN\", \"CN\", \"CN\", \"CH\"], \"locations\": [\"IND\", \"NLD\", \"TUR\", \"GRC\", \"NZL\", \"IND\", \"THA\", \"ESP\", \"CHN\", \"DEU\", \"ESP\", \"USA\", \"BEL\", \"ROU\", \"HUN\", \"ARG\", \"TUR\", \"KOR\", \"EGY\", \"CHN\", \"CHN\", \"CHN\", \"IND\", \"THA\", \"CHN\", \"DEU\", \"DNK\", \"IND\", \"BGD\", \"CHN\", \"ARE\", \"DEU\", \"DEU\", \"JPN\", \"CHN\", \"CHE\", \"MEX\", \"CHN\", \"CHN\", \"IND\", \"DEU\", \"CHN\", \"VNM\", \"CHN\", \"FIN\", \"VNM\", \"IND\", \"TUR\", \"TUR\", \"IDN\", \"SAU\", \"TWN\", \"DEU\", \"UKR\", \"IND\", \"MYS\", \"CHN\", \"KWT\", \"UKR\", \"PAK\", \"CHN\", \"DEU\", \"PER\", \"PRT\", \"GBR\", \"USA\", \"CHE\", \"FRA\", \"ESP\", \"ESP\", \"SWE\", \"PHL\", \"AUS\", \"MEX\", \"ITA\", \"CAN\", \"RUS\", \"IND\", \"IND\", \"CHN\", \"CHN\", \"CHN\", \"USA\", \"RUS\", \"DEU\", \"JPN\", \"NOR\", \"CAN\", \"PAN\", \"FRA\", \"AUS\", \"PRT\", \"CZE\", \"ECU\", \"SAU\", \"ITA\", \"RUS\", \"BRA\", \"USA\", \"USA\", \"CHL\", \"BRA\", \"USA\", \"KOR\", \"ESP\", \"CHN\", \"CHN\", \"CHN\", \"SGP\", \"BGR\", \"SWE\", \"CHN\", \"AUS\", \"TWN\", \"TWN\", \"TWN\", \"UZB\", \"IRN\", \"ISR\", \"GRC\", \"CHN\", \"JPN\", \"CAN\", \"FRA\", \"ITA\", \"CAN\", \"AUT\", \"POL\", \"CHN\", \"CHN\", \"CHN\", \"CHN\", \"CHN\", \"CHE\"], \"name\": \"\", \"type\": \"choropleth\", \"z\": [3.730625, 42.831331701030926, 12.940347071583513, 12.833139833333334, 244.21738774285717, 3.5556499922547324, 8.938748649529781, 12.769593437864081, 7.79489749813874, 97.24597161904761, 10.41941970677966, 39.62950138157895, 60.43388429545455, 39.08237765217391, 65.37326516216216, 11.615, 0.5866666666666667, 17.23203125, 50.915043837944665, 8.557382953181273, 10.640597731239088, 7.973393951373791, 4.11199725361063, 8.760615284810125, 6.755174063883239, 84.5, 14.532362122580647, 2.1059391507936507, 22.095489391242936, 6.263987061219599, 24.488888886666665, 104.47231835294116, 66.60493825925926, 229.296875, 6.451735722284434, 13.759814045454544, 7.22336398139535, 7.511629626890508, 5.201710478337257, 27.677736203389827, 55.14743590384616, 7.288540972684876, 24.047282608333333, 4.834122807017544, 5.399776601904763, 35.163609105263156, 1.8132716055555553, 6.4309961275438745, 10.540104166666667, 11.904348694267517, 0.6635017405338299, 12.167281539383561, 82.22612847916666, 121.61632654285712, 15.941538461538462, 6.760091321705426, 6.75146909827761, 1.1875, 20.92773406329114, 8.222927247232473, 9.813888888888888, 96.29629630555556, 9.051755102857145, 70.2, 44.661458333333336, 137.04873515730335, 66.54933333333334, 81.40817609433964, 2.8442689204980844, 8.85738899115044, 3.0993079582352943, 21.551165196911196, 93.70370369999998, 10.375310285714285, 12.610721029411764, 69.79747407272727, 5.644220010217114, 10.693261879423869, 3.2120830026178004, 12.588828828828829, 10.174582798459562, 9.645800524934383, 755.1243143333332, 72.16, 496.52777783333335, 14.459053782594937, 28.986296040816327, 11.1552, 10.656856115635177, 9.235608165725125, 17.7633218, 11.122222221666666, 40.82343455737705, 7.282469825327512, 7.898036437458634, 53.355729505952375, 51.67708333333333, 2.7327823690909088, 229.08093277777772, 74.86979166666667, 5.447057611650485, 20.85700277419355, 67.51249519607843, 3.9386691491064494, 3.366139354945055, 6.799446528831058, 10.957333333333334, 8.910452107895319, 29.45455409223847, 14.620991233333331, 24.57166059695818, 4.828070175438596, 7.666666666666667, 14.127350568862274, 28.99321831707317, 10.840526992582468, 31.531325889999998, 16.666666666666668, 5.357722634185303, 21.37978469230769, 6.824041034790366, 16.287482371380698, 37.19089420376175, 4.7613168740740734, 18.80039117837838, 73.16712835087719, 32.55770076256983, 64.63130732352941, 1.7293457943925232, 8.102196451963401, 8.66950146627566, 4.518988173455979, 2.8824807426427017, 14.978298614583332]}],\n",
       "                        {\"coloraxis\": {\"colorbar\": {\"title\": {\"text\": \"len_cost\"}}, \"colorscale\": [[0.0, \"#0d0887\"], [0.1111111111111111, \"#46039f\"], [0.2222222222222222, \"#7201a8\"], [0.3333333333333333, \"#9c179e\"], [0.4444444444444444, \"#bd3786\"], [0.5555555555555556, \"#d8576b\"], [0.6666666666666666, \"#ed7953\"], [0.7777777777777778, \"#fb9f3a\"], [0.8888888888888888, \"#fdca26\"], [1.0, \"#f0f921\"]]}, \"geo\": {\"center\": {}, \"domain\": {\"x\": [0.0, 1.0], \"y\": [0.0, 1.0]}}, \"legend\": {\"tracegroupgap\": 0}, \"margin\": {\"t\": 60}, \"template\": {\"data\": {\"bar\": [{\"error_x\": {\"color\": \"#2a3f5f\"}, \"error_y\": {\"color\": \"#2a3f5f\"}, \"marker\": {\"line\": {\"color\": \"#E5ECF6\", \"width\": 0.5}}, \"type\": \"bar\"}], \"barpolar\": [{\"marker\": {\"line\": {\"color\": \"#E5ECF6\", \"width\": 0.5}}, \"type\": \"barpolar\"}], \"carpet\": [{\"aaxis\": {\"endlinecolor\": \"#2a3f5f\", \"gridcolor\": \"white\", \"linecolor\": \"white\", \"minorgridcolor\": \"white\", \"startlinecolor\": \"#2a3f5f\"}, \"baxis\": {\"endlinecolor\": \"#2a3f5f\", \"gridcolor\": \"white\", \"linecolor\": \"white\", \"minorgridcolor\": \"white\", \"startlinecolor\": \"#2a3f5f\"}, \"type\": \"carpet\"}], \"choropleth\": [{\"colorbar\": {\"outlinewidth\": 0, \"ticks\": \"\"}, \"type\": \"choropleth\"}], \"contour\": [{\"colorbar\": {\"outlinewidth\": 0, \"ticks\": \"\"}, \"colorscale\": [[0.0, \"#0d0887\"], [0.1111111111111111, \"#46039f\"], [0.2222222222222222, \"#7201a8\"], [0.3333333333333333, \"#9c179e\"], [0.4444444444444444, \"#bd3786\"], [0.5555555555555556, \"#d8576b\"], [0.6666666666666666, \"#ed7953\"], [0.7777777777777778, \"#fb9f3a\"], [0.8888888888888888, \"#fdca26\"], [1.0, \"#f0f921\"]], \"type\": \"contour\"}], \"contourcarpet\": [{\"colorbar\": {\"outlinewidth\": 0, \"ticks\": \"\"}, \"type\": \"contourcarpet\"}], \"heatmap\": [{\"colorbar\": {\"outlinewidth\": 0, \"ticks\": \"\"}, \"colorscale\": [[0.0, \"#0d0887\"], [0.1111111111111111, \"#46039f\"], [0.2222222222222222, \"#7201a8\"], [0.3333333333333333, \"#9c179e\"], [0.4444444444444444, \"#bd3786\"], [0.5555555555555556, \"#d8576b\"], [0.6666666666666666, \"#ed7953\"], [0.7777777777777778, \"#fb9f3a\"], [0.8888888888888888, \"#fdca26\"], [1.0, \"#f0f921\"]], \"type\": \"heatmap\"}], \"heatmapgl\": [{\"colorbar\": {\"outlinewidth\": 0, \"ticks\": \"\"}, \"colorscale\": [[0.0, \"#0d0887\"], [0.1111111111111111, \"#46039f\"], [0.2222222222222222, \"#7201a8\"], [0.3333333333333333, \"#9c179e\"], [0.4444444444444444, \"#bd3786\"], [0.5555555555555556, \"#d8576b\"], [0.6666666666666666, \"#ed7953\"], [0.7777777777777778, \"#fb9f3a\"], [0.8888888888888888, \"#fdca26\"], [1.0, \"#f0f921\"]], \"type\": \"heatmapgl\"}], \"histogram\": [{\"marker\": {\"colorbar\": {\"outlinewidth\": 0, \"ticks\": \"\"}}, \"type\": \"histogram\"}], \"histogram2d\": [{\"colorbar\": {\"outlinewidth\": 0, \"ticks\": \"\"}, \"colorscale\": [[0.0, \"#0d0887\"], [0.1111111111111111, \"#46039f\"], [0.2222222222222222, \"#7201a8\"], [0.3333333333333333, \"#9c179e\"], [0.4444444444444444, \"#bd3786\"], [0.5555555555555556, \"#d8576b\"], [0.6666666666666666, \"#ed7953\"], [0.7777777777777778, \"#fb9f3a\"], [0.8888888888888888, \"#fdca26\"], [1.0, \"#f0f921\"]], \"type\": \"histogram2d\"}], \"histogram2dcontour\": [{\"colorbar\": {\"outlinewidth\": 0, \"ticks\": \"\"}, \"colorscale\": [[0.0, \"#0d0887\"], [0.1111111111111111, \"#46039f\"], [0.2222222222222222, \"#7201a8\"], [0.3333333333333333, \"#9c179e\"], [0.4444444444444444, \"#bd3786\"], [0.5555555555555556, \"#d8576b\"], [0.6666666666666666, \"#ed7953\"], [0.7777777777777778, \"#fb9f3a\"], [0.8888888888888888, \"#fdca26\"], [1.0, \"#f0f921\"]], \"type\": \"histogram2dcontour\"}], \"mesh3d\": [{\"colorbar\": {\"outlinewidth\": 0, \"ticks\": \"\"}, \"type\": \"mesh3d\"}], \"parcoords\": [{\"line\": {\"colorbar\": {\"outlinewidth\": 0, \"ticks\": \"\"}}, \"type\": \"parcoords\"}], \"pie\": [{\"automargin\": true, \"type\": \"pie\"}], \"scatter\": [{\"marker\": {\"colorbar\": {\"outlinewidth\": 0, \"ticks\": \"\"}}, \"type\": \"scatter\"}], \"scatter3d\": [{\"line\": {\"colorbar\": {\"outlinewidth\": 0, \"ticks\": \"\"}}, \"marker\": {\"colorbar\": {\"outlinewidth\": 0, \"ticks\": \"\"}}, \"type\": \"scatter3d\"}], \"scattercarpet\": [{\"marker\": {\"colorbar\": {\"outlinewidth\": 0, \"ticks\": \"\"}}, \"type\": \"scattercarpet\"}], \"scattergeo\": [{\"marker\": {\"colorbar\": {\"outlinewidth\": 0, \"ticks\": \"\"}}, \"type\": \"scattergeo\"}], \"scattergl\": [{\"marker\": {\"colorbar\": {\"outlinewidth\": 0, \"ticks\": \"\"}}, \"type\": \"scattergl\"}], \"scattermapbox\": [{\"marker\": {\"colorbar\": {\"outlinewidth\": 0, \"ticks\": \"\"}}, \"type\": \"scattermapbox\"}], \"scatterpolar\": [{\"marker\": {\"colorbar\": {\"outlinewidth\": 0, \"ticks\": \"\"}}, \"type\": \"scatterpolar\"}], \"scatterpolargl\": [{\"marker\": {\"colorbar\": {\"outlinewidth\": 0, \"ticks\": \"\"}}, \"type\": \"scatterpolargl\"}], \"scatterternary\": [{\"marker\": {\"colorbar\": {\"outlinewidth\": 0, \"ticks\": \"\"}}, \"type\": \"scatterternary\"}], \"surface\": [{\"colorbar\": {\"outlinewidth\": 0, \"ticks\": \"\"}, \"colorscale\": [[0.0, \"#0d0887\"], [0.1111111111111111, \"#46039f\"], [0.2222222222222222, \"#7201a8\"], [0.3333333333333333, \"#9c179e\"], [0.4444444444444444, \"#bd3786\"], [0.5555555555555556, \"#d8576b\"], [0.6666666666666666, \"#ed7953\"], [0.7777777777777778, \"#fb9f3a\"], [0.8888888888888888, \"#fdca26\"], [1.0, \"#f0f921\"]], \"type\": \"surface\"}], \"table\": [{\"cells\": {\"fill\": {\"color\": \"#EBF0F8\"}, \"line\": {\"color\": \"white\"}}, \"header\": {\"fill\": {\"color\": \"#C8D4E3\"}, \"line\": {\"color\": \"white\"}}, \"type\": \"table\"}]}, \"layout\": {\"annotationdefaults\": {\"arrowcolor\": \"#2a3f5f\", \"arrowhead\": 0, \"arrowwidth\": 1}, \"coloraxis\": {\"colorbar\": {\"outlinewidth\": 0, \"ticks\": \"\"}}, \"colorscale\": {\"diverging\": [[0, \"#8e0152\"], [0.1, \"#c51b7d\"], [0.2, \"#de77ae\"], [0.3, \"#f1b6da\"], [0.4, \"#fde0ef\"], [0.5, \"#f7f7f7\"], [0.6, \"#e6f5d0\"], [0.7, \"#b8e186\"], [0.8, \"#7fbc41\"], [0.9, \"#4d9221\"], [1, \"#276419\"]], \"sequential\": [[0.0, \"#0d0887\"], [0.1111111111111111, \"#46039f\"], [0.2222222222222222, \"#7201a8\"], [0.3333333333333333, \"#9c179e\"], [0.4444444444444444, \"#bd3786\"], [0.5555555555555556, \"#d8576b\"], [0.6666666666666666, \"#ed7953\"], [0.7777777777777778, \"#fb9f3a\"], [0.8888888888888888, \"#fdca26\"], [1.0, \"#f0f921\"]], \"sequentialminus\": [[0.0, \"#0d0887\"], [0.1111111111111111, \"#46039f\"], [0.2222222222222222, \"#7201a8\"], [0.3333333333333333, \"#9c179e\"], [0.4444444444444444, \"#bd3786\"], [0.5555555555555556, \"#d8576b\"], [0.6666666666666666, \"#ed7953\"], [0.7777777777777778, \"#fb9f3a\"], [0.8888888888888888, \"#fdca26\"], [1.0, \"#f0f921\"]]}, \"colorway\": [\"#636efa\", \"#EF553B\", \"#00cc96\", \"#ab63fa\", \"#FFA15A\", \"#19d3f3\", \"#FF6692\", \"#B6E880\", \"#FF97FF\", \"#FECB52\"], \"font\": {\"color\": \"#2a3f5f\"}, \"geo\": {\"bgcolor\": \"white\", \"lakecolor\": \"white\", \"landcolor\": \"#E5ECF6\", \"showlakes\": true, \"showland\": true, \"subunitcolor\": \"white\"}, \"hoverlabel\": {\"align\": \"left\"}, \"hovermode\": \"closest\", \"mapbox\": {\"style\": \"light\"}, \"paper_bgcolor\": \"white\", \"plot_bgcolor\": \"#E5ECF6\", \"polar\": {\"angularaxis\": {\"gridcolor\": \"white\", \"linecolor\": \"white\", \"ticks\": \"\"}, \"bgcolor\": \"#E5ECF6\", \"radialaxis\": {\"gridcolor\": \"white\", \"linecolor\": \"white\", \"ticks\": \"\"}}, \"scene\": {\"xaxis\": {\"backgroundcolor\": \"#E5ECF6\", \"gridcolor\": \"white\", \"gridwidth\": 2, \"linecolor\": \"white\", \"showbackground\": true, \"ticks\": \"\", \"zerolinecolor\": \"white\"}, \"yaxis\": {\"backgroundcolor\": \"#E5ECF6\", \"gridcolor\": \"white\", \"gridwidth\": 2, \"linecolor\": \"white\", \"showbackground\": true, \"ticks\": \"\", \"zerolinecolor\": \"white\"}, \"zaxis\": {\"backgroundcolor\": \"#E5ECF6\", \"gridcolor\": \"white\", \"gridwidth\": 2, \"linecolor\": \"white\", \"showbackground\": true, \"ticks\": \"\", \"zerolinecolor\": \"white\"}}, \"shapedefaults\": {\"line\": {\"color\": \"#2a3f5f\"}}, \"ternary\": {\"aaxis\": {\"gridcolor\": \"white\", \"linecolor\": \"white\", \"ticks\": \"\"}, \"baxis\": {\"gridcolor\": \"white\", \"linecolor\": \"white\", \"ticks\": \"\"}, \"bgcolor\": \"#E5ECF6\", \"caxis\": {\"gridcolor\": \"white\", \"linecolor\": \"white\", \"ticks\": \"\"}}, \"title\": {\"x\": 0.05}, \"xaxis\": {\"automargin\": true, \"gridcolor\": \"white\", \"linecolor\": \"white\", \"ticks\": \"\", \"title\": {\"standoff\": 15}, \"zerolinecolor\": \"white\", \"zerolinewidth\": 2}, \"yaxis\": {\"automargin\": true, \"gridcolor\": \"white\", \"linecolor\": \"white\", \"ticks\": \"\", \"title\": {\"standoff\": 15}, \"zerolinecolor\": \"white\", \"zerolinewidth\": 2}}}},\n",
       "                        {\"responsive\": true}\n",
       "                    ).then(function(){\n",
       "                            \n",
       "var gd = document.getElementById('cb7e4da3-e30c-4bd5-a7fa-b088800365ba');\n",
       "var x = new MutationObserver(function (mutations, observer) {{\n",
       "        var display = window.getComputedStyle(gd).display;\n",
       "        if (!display || display === 'none') {{\n",
       "            console.log([gd, 'removed!']);\n",
       "            Plotly.purge(gd);\n",
       "            observer.disconnect();\n",
       "        }}\n",
       "}});\n",
       "\n",
       "// Listen for the removal of the full notebook cells\n",
       "var notebookContainer = gd.closest('#notebook-container');\n",
       "if (notebookContainer) {{\n",
       "    x.observe(notebookContainer, {childList: true});\n",
       "}}\n",
       "\n",
       "// Listen for the clearing of the current output cell\n",
       "var outputEl = gd.closest('.output');\n",
       "if (outputEl) {{\n",
       "    x.observe(outputEl, {childList: true});\n",
       "}}\n",
       "\n",
       "                        })\n",
       "                };\n",
       "                });\n",
       "            </script>\n",
       "        </div>"
      ]
     },
     "metadata": {},
     "output_type": "display_data"
    }
   ],
   "source": [
    "# plotly express to look at different country costs \n",
    "\n",
    "import plotly.express as px\n",
    "\n",
    "fig = px.choropleth(m, locations='country_alpha_3',\n",
    "                    color='len_cost', # lifeExp is a column of gapminder\n",
    "                    hover_name=\"country\", # column to add to hover information\n",
    "                    color_continuous_scale=px.colors.sequential.Plasma)\n",
    "fig.show()\n"
   ]
  },
  {
   "cell_type": "markdown",
   "metadata": {},
   "source": [
    "There is a clear outlier with Denmark. Dang"
   ]
  },
  {
   "cell_type": "code",
   "execution_count": null,
   "metadata": {},
   "outputs": [],
   "source": []
  },
  {
   "cell_type": "code",
   "execution_count": null,
   "metadata": {},
   "outputs": [],
   "source": []
  }
 ],
 "metadata": {
  "kernelspec": {
   "display_name": "Python 3",
   "language": "python",
   "name": "python3"
  },
  "language_info": {
   "codemirror_mode": {
    "name": "ipython",
    "version": 3
   },
   "file_extension": ".py",
   "mimetype": "text/x-python",
   "name": "python",
   "nbconvert_exporter": "python",
   "pygments_lexer": "ipython3",
   "version": "3.7.6"
  }
 },
 "nbformat": 4,
 "nbformat_minor": 4
}
